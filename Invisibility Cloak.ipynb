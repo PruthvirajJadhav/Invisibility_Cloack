{
 "cells": [
  {
   "cell_type": "code",
   "execution_count": 2,
   "metadata": {},
   "outputs": [],
   "source": [
    "#Import libs & declarations\n",
    "import numpy as np\n",
    "import cv2\n",
    "import time\n"
   ]
  },
  {
   "cell_type": "code",
   "execution_count": 3,
   "metadata": {},
   "outputs": [],
   "source": [
    "def readBackground():\n",
    "    cap = cv2.VideoCapture(0)\n",
    "    time.sleep(3)\n",
    "    for i in range(30):\n",
    "        ret,background = cap.read()\n",
    "    #flip image to make it look as we see\n",
    "    background = np.flip(background,axis=1)\n",
    "    cap.release()\n",
    "    return background"
   ]
  },
  {
   "cell_type": "code",
   "execution_count": 4,
   "metadata": {},
   "outputs": [],
   "source": [
    "def detect(background):\n",
    "    cap = cv2.VideoCapture(0)\n",
    "    # loop runs if capturing has been initialized. \n",
    "    while 1:  \n",
    "       \n",
    "        # reads frames from a camera \n",
    "        ret, img = cap.read()\n",
    "        \n",
    "        img = np.flip(img,axis=1)\n",
    "        \n",
    "        # converting from BGR to HSV color space\n",
    "        hsv = cv2.cvtColor(img,cv2.COLOR_BGR2HSV)\n",
    "        \n",
    "        # Range for lower red\n",
    "        lower_red = np.array([0,120,70])\n",
    "        upper_red = np.array([10,255,255])\n",
    "        mask1 = cv2.inRange(hsv, lower_red, upper_red)\n",
    "        \n",
    "        # Range for upper range\n",
    "        lower_red = np.array([170,120,70])\n",
    "        upper_red = np.array([180,255,255])\n",
    "        mask2 = cv2.inRange(hsv,lower_red,upper_red)\n",
    "        \n",
    "        # Generating the final mask to detect red color\n",
    "        mask1 = mask1+mask2\n",
    "        \n",
    "        #dilate mask\n",
    "        mask1 = cv2.morphologyEx(mask1, cv2.MORPH_OPEN, np.ones((3,3),np.uint8))\n",
    "        mask1 = cv2.morphologyEx(mask1, cv2.MORPH_DILATE, np.ones((3,3),np.uint8)) \n",
    "        \n",
    "        mask2 = cv2.bitwise_not(mask1)\n",
    "        res1 = cv2.bitwise_and(img,img,mask=mask2)\n",
    "        \n",
    "        res2 = cv2.bitwise_and(background, background, mask = mask1)\n",
    "        final_output = cv2.addWeighted(res1,1,res2,1,0)\n",
    "        cv2.imshow(\"magic\",final_output)\n",
    "        cv2.waitKey(1)\n",
    "        \n",
    "        # Wait for Esc key to stop \n",
    "        k = cv2.waitKey(30) & 0xff\n",
    "        if k == 27: \n",
    "            # Close the window \n",
    "            cap.release() \n",
    "            cv2.destroyAllWindows()\n",
    "            break\n",
    "  \n",
    "    "
   ]
  },
  {
   "cell_type": "code",
   "execution_count": 20,
   "metadata": {},
   "outputs": [],
   "source": [
    "#load background image\n",
    "bgImg = readBackground()\n"
   ]
  },
  {
   "cell_type": "code",
   "execution_count": null,
   "metadata": {},
   "outputs": [],
   "source": []
  },
  {
   "cell_type": "code",
   "execution_count": null,
   "metadata": {},
   "outputs": [],
   "source": []
  },
  {
   "cell_type": "code",
   "execution_count": 21,
   "metadata": {},
   "outputs": [],
   "source": [
    "#run the magic\n",
    "detect(bgImg)"
   ]
  },
  {
   "cell_type": "code",
   "execution_count": null,
   "metadata": {},
   "outputs": [],
   "source": []
  }
 ],
 "metadata": {
  "kernelspec": {
   "display_name": "Python 3",
   "language": "python",
   "name": "python3"
  },
  "language_info": {
   "codemirror_mode": {
    "name": "ipython",
    "version": 3
   },
   "file_extension": ".py",
   "mimetype": "text/x-python",
   "name": "python",
   "nbconvert_exporter": "python",
   "pygments_lexer": "ipython3",
   "version": "3.7.6"
  }
 },
 "nbformat": 4,
 "nbformat_minor": 4
}
